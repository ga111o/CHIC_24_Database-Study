{
 "cells": [
  {
   "cell_type": "code",
   "execution_count": 3,
   "metadata": {},
   "outputs": [
    {
     "name": "stdout",
     "output_type": "stream",
     "text": [
      "| dept |\n",
      "  deptno deptname deptloc\n",
      "0     10      관리부      서울\n",
      "1     20      생산부      부산\n",
      "2     30      영업부      대구\n",
      "3     40      기술부      대전\n",
      "\n",
      "\n",
      "| emp |\n",
      "  empno titleno deptno empname manager  salary       hdate\n",
      "0  1001      40     10       킹    None    5000  1997-01-01\n",
      "1  1002      30     20     이영업    1001    4300  1998-01-01\n",
      "2  1003      30     30     김생산    1001    4800  1999-01-01\n",
      "3  1004      30     40     홍연구    1001    4500  1999-12-01\n",
      "4  1005      20     20     이말숙    1002    3300  2000-01-01\n",
      "5  1006      10     20     김말숫    1002    2800  2001-01-01\n",
      "6  1007      20     30     홍영자    1003    3500  2000-12-01\n",
      "7  1008      10     30     이영자    1003    2300  2002-05-01\n",
      "8  1009      20     40     김강국    1004    3800  2001-01-01\n",
      "9  1010      10     40     홍정국    1004    2500  2002-12-01\n",
      "\n",
      "\n",
      "| title |\n",
      "  titleno titlename\n",
      "0      10        사원\n",
      "1      20        대리\n",
      "2      30        팀장\n",
      "3      40        대표\n",
      "\n",
      "\n"
     ]
    }
   ],
   "source": [
    "import mysql.connector\n",
    "import pandas as pd\n",
    "import PRIVATE\n",
    "\n",
    "\n",
    "def fetch_all_tables_data(database_name):\n",
    "    try:\n",
    "        connection = mysql.connector.connect(\n",
    "            host=PRIVATE.ip,\n",
    "            port=3306,\n",
    "            user='chic',\n",
    "            password='password',\n",
    "            database=database_name\n",
    "        )\n",
    "\n",
    "        cursor = connection.cursor()\n",
    "\n",
    "        cursor.execute(\"show tables\")\n",
    "        tables = cursor.fetchall()\n",
    "\n",
    "        all_tables_data = {}\n",
    "\n",
    "        for (table_name,) in tables:\n",
    "            cursor.execute(f\"select * from {table_name}\")\n",
    "            results = cursor.fetchall()\n",
    "            column_names = [i[0] for i in cursor.description]\n",
    "\n",
    "            df = pd.DataFrame(results, columns=column_names)\n",
    "            all_tables_data[table_name] = df\n",
    "\n",
    "        return all_tables_data\n",
    "\n",
    "    except mysql.connector.Error as err:\n",
    "        print(err)\n",
    "        return None\n",
    "    finally:\n",
    "        if connection:\n",
    "            cursor.close()\n",
    "            connection.close()\n",
    "\n",
    "\n",
    "all_data = fetch_all_tables_data('chic-dbstudy')\n",
    "\n",
    "if all_data is not None:\n",
    "    for table_name, df in all_data.items():\n",
    "        print(f\"| {table_name} |\")\n",
    "        print(df)\n",
    "        print(\"\\n\")"
   ]
  }
 ],
 "metadata": {
  "kernelspec": {
   "display_name": "Python 3",
   "language": "python",
   "name": "python3"
  },
  "language_info": {
   "codemirror_mode": {
    "name": "ipython",
    "version": 3
   },
   "file_extension": ".py",
   "mimetype": "text/x-python",
   "name": "python",
   "nbconvert_exporter": "python",
   "pygments_lexer": "ipython3",
   "version": "3.11.9"
  }
 },
 "nbformat": 4,
 "nbformat_minor": 2
}
