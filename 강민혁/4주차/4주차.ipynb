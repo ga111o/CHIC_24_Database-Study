{
 "cells": [
  {
   "cell_type": "code",
   "execution_count": 28,
   "metadata": {},
   "outputs": [],
   "source": [
    "import sqlite3\n",
    "\n",
    "conn = sqlite3.connect(':memory:')\n",
    "cursor = conn.cursor()\n",
    "\n",
    "cursor.execute('''\n",
    "CREATE TABLE school (\n",
    "    id INTEGER PRIMARY KEY,\n",
    "    name TEXT NOT NULL,\n",
    "    age INTEGER,\n",
    "    major TEXT\n",
    ")\n",
    "''')\n",
    "\n",
    "cursor.execute('''\n",
    "CREATE TABLE grades (\n",
    "    student_id INTEGER,\n",
    "    subject TEXT,\n",
    "    score INTEGER,\n",
    "    FOREIGN KEY (student_id) REFERENCES school (id)\n",
    ")\n",
    "''')\n",
    "\n",
    "students = [\n",
    "    (1, 'minh', 20, 'info-cov'),\n",
    "    (2, 'test22', 22, 'software'),\n",
    "    (3, 'test33', 21, 'computer'),\n",
    "    (4, 'test444', 23, 'engineering'),\n",
    "    (5, 'ga111o', 20, 'robot')\n",
    "]\n",
    "\n",
    "cursor.executemany('INSERT INTO school VALUES (?, ?, ?, ?)', students)\n",
    "\n",
    "grades = [\n",
    "    (1, 'math', 85),\n",
    "    (1, 'programming', 100),\n",
    "    (2, 'math', 78),\n",
    "    (2, 'programming', 88),\n",
    "    (3, 'math', 92),\n",
    "    (4, 'programming', 75),\n",
    "    (5, 'math', 80)\n",
    "]\n",
    "\n",
    "cursor.executemany('INSERT INTO grades VALUES (?, ?, ?)', grades)\n",
    "conn.commit()"
   ]
  },
  {
   "cell_type": "code",
   "execution_count": 26,
   "metadata": {},
   "outputs": [
    {
     "name": "stdout",
     "output_type": "stream",
     "text": [
      "('minh', 'info-cov', 'math', 85)\n",
      "('minh', 'info-cov', 'programming', 100)\n",
      "('test22', 'software', 'math', 78)\n",
      "('test22', 'software', 'programming', 88)\n",
      "('test33', 'computer', 'math', 92)\n",
      "('test444', 'engineering', 'programming', 75)\n",
      "('ga111o', 'robot', 'math', 80)\n"
     ]
    }
   ],
   "source": [
    "query = '''\n",
    "SELECT s.name, s.major, g.subject, g.score\n",
    "FROM school s\n",
    "JOIN grades g ON s.id = g.student_id\n",
    "'''\n",
    "\n",
    "cursor.execute(query)\n",
    "results = cursor.fetchall()\n",
    "\n",
    "for result in results:\n",
    "    print(result)"
   ]
  },
  {
   "cell_type": "code",
   "execution_count": 29,
   "metadata": {},
   "outputs": [
    {
     "name": "stdout",
     "output_type": "stream",
     "text": [
      "('minh', 20, 'under 21')\n",
      "('test22', 22, '21 < 22')\n",
      "('test33', 21, '21 < 22')\n",
      "('test444', 23, 'over 22')\n",
      "('ga111o', 20, 'under 21')\n"
     ]
    }
   ],
   "source": [
    "query = '''\n",
    "SELECT name, age,\n",
    "    CASE\n",
    "        WHEN age < 21 THEN 'under 21'\n",
    "        WHEN age BETWEEN 21 AND 22 THEN '21 < 22'\n",
    "        ELSE 'over 22'\n",
    "    END as age_group\n",
    "FROM school\n",
    "'''\n",
    "\n",
    "cursor.execute(query)\n",
    "results = cursor.fetchall()\n",
    "\n",
    "for result in results:\n",
    "    print(result)"
   ]
  },
  {
   "cell_type": "code",
   "execution_count": null,
   "metadata": {},
   "outputs": [],
   "source": []
  }
 ],
 "metadata": {
  "kernelspec": {
   "display_name": "Python 3",
   "language": "python",
   "name": "python3"
  },
  "language_info": {
   "codemirror_mode": {
    "name": "ipython",
    "version": 3
   },
   "file_extension": ".py",
   "mimetype": "text/x-python",
   "name": "python",
   "nbconvert_exporter": "python",
   "pygments_lexer": "ipython3",
   "version": "3.11.9"
  }
 },
 "nbformat": 4,
 "nbformat_minor": 2
}
